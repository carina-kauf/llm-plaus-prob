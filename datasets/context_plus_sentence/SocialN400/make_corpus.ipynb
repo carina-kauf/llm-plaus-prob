{
 "cells": [
  {
   "cell_type": "code",
   "execution_count": 1,
   "id": "bda2a234-dcc2-4bfd-9608-0a47cc3197b2",
   "metadata": {
    "ExecuteTime": {
     "end_time": "2023-12-04T18:09:27.751459Z",
     "start_time": "2023-12-04T18:09:27.328671Z"
    }
   },
   "outputs": [
    {
     "data": {
      "text/plain": "     ItemNum Condition                                  Sentence1_Context  \\\n0        1.0   Control               I went to a mechanic to fix my car.    \n1        1.0   SemAnom                        I decided to paint my boat.   \n2        1.0  Critical              I decided to turn my boat into a car.   \n3        2.0   Control                 Jane was cooking Christmas dinner.   \n4        2.0   SemAnom                  Jane was unpacking the groceries.   \n..       ...       ...                                                ...   \n295     99.0   SemAnom  The Smiths decided to spend their Christmas in...   \n296     99.0  Critical  In Australia, winter is the warmest out of the...   \n297    100.0   Control  Henry VIII's crown can be seen at the British ...   \n298    100.0   SemAnom         Mary purchased her baby boy's first shoes.   \n299    100.0  Critical  Jewelry makers created special shoes for the Q...   \n\n                                        Sentence2_Main  Target_word_position  \\\n0                           My car has big wheels now.                   5.0   \n1                          My boat has big wheels now.                   5.0   \n2                          My boat has big wheels now.                   5.0   \n3        Jane put the turkey in the oven for one hour.                   7.0   \n4        Jane put the cheese in the oven for one hour.                   7.0   \n..                                                 ...                   ...   \n295      It is often cold and snowing in summer there.                   8.0   \n296      It is often cold and snowing in summer there.                   8.0   \n297  The crown is made of gold and decorated with d...                   6.0   \n298  The shoes are made of gold and decorated with ...                   6.0   \n299  The shoes are made of gold and decorated with ...                   6.0   \n\n     N_Words_Sentence1  N_Words_Sentence2  \n0                  9.0                6.0  \n1                  6.0                6.0  \n2                  9.0                6.0  \n3                  5.0               10.0  \n4                  5.0               10.0  \n..                 ...                ...  \n295                9.0                9.0  \n296               11.0                9.0  \n297               10.0               10.0  \n298                7.0               10.0  \n299                8.0               10.0  \n\n[300 rows x 7 columns]",
      "text/html": "<div>\n<style scoped>\n    .dataframe tbody tr th:only-of-type {\n        vertical-align: middle;\n    }\n\n    .dataframe tbody tr th {\n        vertical-align: top;\n    }\n\n    .dataframe thead th {\n        text-align: right;\n    }\n</style>\n<table border=\"1\" class=\"dataframe\">\n  <thead>\n    <tr style=\"text-align: right;\">\n      <th></th>\n      <th>ItemNum</th>\n      <th>Condition</th>\n      <th>Sentence1_Context</th>\n      <th>Sentence2_Main</th>\n      <th>Target_word_position</th>\n      <th>N_Words_Sentence1</th>\n      <th>N_Words_Sentence2</th>\n    </tr>\n  </thead>\n  <tbody>\n    <tr>\n      <th>0</th>\n      <td>1.0</td>\n      <td>Control</td>\n      <td>I went to a mechanic to fix my car.</td>\n      <td>My car has big wheels now.</td>\n      <td>5.0</td>\n      <td>9.0</td>\n      <td>6.0</td>\n    </tr>\n    <tr>\n      <th>1</th>\n      <td>1.0</td>\n      <td>SemAnom</td>\n      <td>I decided to paint my boat.</td>\n      <td>My boat has big wheels now.</td>\n      <td>5.0</td>\n      <td>6.0</td>\n      <td>6.0</td>\n    </tr>\n    <tr>\n      <th>2</th>\n      <td>1.0</td>\n      <td>Critical</td>\n      <td>I decided to turn my boat into a car.</td>\n      <td>My boat has big wheels now.</td>\n      <td>5.0</td>\n      <td>9.0</td>\n      <td>6.0</td>\n    </tr>\n    <tr>\n      <th>3</th>\n      <td>2.0</td>\n      <td>Control</td>\n      <td>Jane was cooking Christmas dinner.</td>\n      <td>Jane put the turkey in the oven for one hour.</td>\n      <td>7.0</td>\n      <td>5.0</td>\n      <td>10.0</td>\n    </tr>\n    <tr>\n      <th>4</th>\n      <td>2.0</td>\n      <td>SemAnom</td>\n      <td>Jane was unpacking the groceries.</td>\n      <td>Jane put the cheese in the oven for one hour.</td>\n      <td>7.0</td>\n      <td>5.0</td>\n      <td>10.0</td>\n    </tr>\n    <tr>\n      <th>...</th>\n      <td>...</td>\n      <td>...</td>\n      <td>...</td>\n      <td>...</td>\n      <td>...</td>\n      <td>...</td>\n      <td>...</td>\n    </tr>\n    <tr>\n      <th>295</th>\n      <td>99.0</td>\n      <td>SemAnom</td>\n      <td>The Smiths decided to spend their Christmas in...</td>\n      <td>It is often cold and snowing in summer there.</td>\n      <td>8.0</td>\n      <td>9.0</td>\n      <td>9.0</td>\n    </tr>\n    <tr>\n      <th>296</th>\n      <td>99.0</td>\n      <td>Critical</td>\n      <td>In Australia, winter is the warmest out of the...</td>\n      <td>It is often cold and snowing in summer there.</td>\n      <td>8.0</td>\n      <td>11.0</td>\n      <td>9.0</td>\n    </tr>\n    <tr>\n      <th>297</th>\n      <td>100.0</td>\n      <td>Control</td>\n      <td>Henry VIII's crown can be seen at the British ...</td>\n      <td>The crown is made of gold and decorated with d...</td>\n      <td>6.0</td>\n      <td>10.0</td>\n      <td>10.0</td>\n    </tr>\n    <tr>\n      <th>298</th>\n      <td>100.0</td>\n      <td>SemAnom</td>\n      <td>Mary purchased her baby boy's first shoes.</td>\n      <td>The shoes are made of gold and decorated with ...</td>\n      <td>6.0</td>\n      <td>7.0</td>\n      <td>10.0</td>\n    </tr>\n    <tr>\n      <th>299</th>\n      <td>100.0</td>\n      <td>Critical</td>\n      <td>Jewelry makers created special shoes for the Q...</td>\n      <td>The shoes are made of gold and decorated with ...</td>\n      <td>6.0</td>\n      <td>8.0</td>\n      <td>10.0</td>\n    </tr>\n  </tbody>\n</table>\n<p>300 rows × 7 columns</p>\n</div>"
     },
     "execution_count": 1,
     "metadata": {},
     "output_type": "execute_result"
    }
   ],
   "source": [
    "import pandas as pd\n",
    "\n",
    "df = pd.read_csv(\"SocialN400_stimuli.csv\")\n",
    "df = df.dropna()\n",
    "df"
   ]
  },
  {
   "cell_type": "code",
   "execution_count": 2,
   "outputs": [
    {
     "name": "stdout",
     "output_type": "stream",
     "text": [
      "Index(['item_id', 'condition', 'context', 'sentence', 'Target_word_position',\n",
      "       'N_Words_Sentence1', 'N_Words_Sentence2', 'prefix', 'continuation'],\n",
      "      dtype='object')\n"
     ]
    },
    {
     "data": {
      "text/plain": "     item_id condition                                            context  \\\n0        1.0   Control                I went to a mechanic to fix my car.   \n1        1.0   SemAnom                        I decided to paint my boat.   \n2        1.0  Critical              I decided to turn my boat into a car.   \n3        2.0   Control                 Jane was cooking Christmas dinner.   \n4        2.0   SemAnom                  Jane was unpacking the groceries.   \n..       ...       ...                                                ...   \n295     99.0   SemAnom  The Smiths decided to spend their Christmas in...   \n296     99.0  Critical  In Australia, winter is the warmest out of the...   \n297    100.0   Control  Henry VIII's crown can be seen at the British ...   \n298    100.0   SemAnom         Mary purchased her baby boy's first shoes.   \n299    100.0  Critical  Jewelry makers created special shoes for the Q...   \n\n                              prefix continuation  \\\n0                     My car has big       wheels   \n1                    My boat has big       wheels   \n2                    My boat has big       wheels   \n3         Jane put the turkey in the         oven   \n4         Jane put the cheese in the         oven   \n..                               ...          ...   \n295  It is often cold and snowing in       summer   \n296  It is often cold and snowing in       summer   \n297             The crown is made of         gold   \n298            The shoes are made of         gold   \n299            The shoes are made of         gold   \n\n                                              sentence  \n0                           My car has big wheels now.  \n1                          My boat has big wheels now.  \n2                          My boat has big wheels now.  \n3        Jane put the turkey in the oven for one hour.  \n4        Jane put the cheese in the oven for one hour.  \n..                                                 ...  \n295      It is often cold and snowing in summer there.  \n296      It is often cold and snowing in summer there.  \n297  The crown is made of gold and decorated with d...  \n298  The shoes are made of gold and decorated with ...  \n299  The shoes are made of gold and decorated with ...  \n\n[300 rows x 6 columns]",
      "text/html": "<div>\n<style scoped>\n    .dataframe tbody tr th:only-of-type {\n        vertical-align: middle;\n    }\n\n    .dataframe tbody tr th {\n        vertical-align: top;\n    }\n\n    .dataframe thead th {\n        text-align: right;\n    }\n</style>\n<table border=\"1\" class=\"dataframe\">\n  <thead>\n    <tr style=\"text-align: right;\">\n      <th></th>\n      <th>item_id</th>\n      <th>condition</th>\n      <th>context</th>\n      <th>prefix</th>\n      <th>continuation</th>\n      <th>sentence</th>\n    </tr>\n  </thead>\n  <tbody>\n    <tr>\n      <th>0</th>\n      <td>1.0</td>\n      <td>Control</td>\n      <td>I went to a mechanic to fix my car.</td>\n      <td>My car has big</td>\n      <td>wheels</td>\n      <td>My car has big wheels now.</td>\n    </tr>\n    <tr>\n      <th>1</th>\n      <td>1.0</td>\n      <td>SemAnom</td>\n      <td>I decided to paint my boat.</td>\n      <td>My boat has big</td>\n      <td>wheels</td>\n      <td>My boat has big wheels now.</td>\n    </tr>\n    <tr>\n      <th>2</th>\n      <td>1.0</td>\n      <td>Critical</td>\n      <td>I decided to turn my boat into a car.</td>\n      <td>My boat has big</td>\n      <td>wheels</td>\n      <td>My boat has big wheels now.</td>\n    </tr>\n    <tr>\n      <th>3</th>\n      <td>2.0</td>\n      <td>Control</td>\n      <td>Jane was cooking Christmas dinner.</td>\n      <td>Jane put the turkey in the</td>\n      <td>oven</td>\n      <td>Jane put the turkey in the oven for one hour.</td>\n    </tr>\n    <tr>\n      <th>4</th>\n      <td>2.0</td>\n      <td>SemAnom</td>\n      <td>Jane was unpacking the groceries.</td>\n      <td>Jane put the cheese in the</td>\n      <td>oven</td>\n      <td>Jane put the cheese in the oven for one hour.</td>\n    </tr>\n    <tr>\n      <th>...</th>\n      <td>...</td>\n      <td>...</td>\n      <td>...</td>\n      <td>...</td>\n      <td>...</td>\n      <td>...</td>\n    </tr>\n    <tr>\n      <th>295</th>\n      <td>99.0</td>\n      <td>SemAnom</td>\n      <td>The Smiths decided to spend their Christmas in...</td>\n      <td>It is often cold and snowing in</td>\n      <td>summer</td>\n      <td>It is often cold and snowing in summer there.</td>\n    </tr>\n    <tr>\n      <th>296</th>\n      <td>99.0</td>\n      <td>Critical</td>\n      <td>In Australia, winter is the warmest out of the...</td>\n      <td>It is often cold and snowing in</td>\n      <td>summer</td>\n      <td>It is often cold and snowing in summer there.</td>\n    </tr>\n    <tr>\n      <th>297</th>\n      <td>100.0</td>\n      <td>Control</td>\n      <td>Henry VIII's crown can be seen at the British ...</td>\n      <td>The crown is made of</td>\n      <td>gold</td>\n      <td>The crown is made of gold and decorated with d...</td>\n    </tr>\n    <tr>\n      <th>298</th>\n      <td>100.0</td>\n      <td>SemAnom</td>\n      <td>Mary purchased her baby boy's first shoes.</td>\n      <td>The shoes are made of</td>\n      <td>gold</td>\n      <td>The shoes are made of gold and decorated with ...</td>\n    </tr>\n    <tr>\n      <th>299</th>\n      <td>100.0</td>\n      <td>Critical</td>\n      <td>Jewelry makers created special shoes for the Q...</td>\n      <td>The shoes are made of</td>\n      <td>gold</td>\n      <td>The shoes are made of gold and decorated with ...</td>\n    </tr>\n  </tbody>\n</table>\n<p>300 rows × 6 columns</p>\n</div>"
     },
     "execution_count": 2,
     "metadata": {},
     "output_type": "execute_result"
    }
   ],
   "source": [
    "df.rename(columns={\"Sentence1_Context\": \"context\",\n",
    "                   \"ItemNum\": \"item_id\",\n",
    "                   \"Condition\": \"condition\",\n",
    "                   \"Sentence2_Main\" : \"sentence\"}, inplace=True)\n",
    "df[\"context\"] = df.apply(lambda row: row['context'].rstrip(), axis=1)  # remove trailing whitespace\n",
    "df[\"sentence\"] = df.apply(lambda row: row['sentence'].rstrip(), axis=1)  # remove trailing whitespace\n",
    "df[\"prefix\"] = df.apply(lambda row: ' '.join(row['sentence'].split()[:int(row['Target_word_position']) - 1]), axis=1)\n",
    "df[\"continuation\"] = df.apply(lambda row: row['sentence'].split()[int(row['Target_word_position']) - 1], axis=1)\n",
    "print(df.columns)\n",
    "df = df[[\"item_id\", \"condition\", \"context\", \"prefix\", \"continuation\", \"sentence\"]]\n",
    "df.to_csv(\"corpus.csv\", index=False)\n",
    "df"
   ],
   "metadata": {
    "collapsed": false,
    "ExecuteTime": {
     "end_time": "2023-12-04T18:09:27.781575Z",
     "start_time": "2023-12-04T18:09:27.758450Z"
    }
   },
   "id": "df4958a20c938d28"
  },
  {
   "cell_type": "code",
   "execution_count": 2,
   "outputs": [],
   "source": [],
   "metadata": {
    "collapsed": false,
    "ExecuteTime": {
     "end_time": "2023-12-04T18:09:27.782793Z",
     "start_time": "2023-12-04T18:09:27.768878Z"
    }
   },
   "id": "3603f962912e6400"
  }
 ],
 "metadata": {
  "kernelspec": {
   "display_name": "Python 3 (ipykernel)",
   "language": "python",
   "name": "python3"
  },
  "language_info": {
   "codemirror_mode": {
    "name": "ipython",
    "version": 3
   },
   "file_extension": ".py",
   "mimetype": "text/x-python",
   "name": "python",
   "nbconvert_exporter": "python",
   "pygments_lexer": "ipython3",
   "version": "3.10.13"
  }
 },
 "nbformat": 4,
 "nbformat_minor": 5
}
