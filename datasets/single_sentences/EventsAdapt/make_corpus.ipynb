{
 "cells": [
  {
   "cell_type": "code",
   "execution_count": 1,
   "id": "3364df4a-d314-4735-a97f-bac36ec2b6f9",
   "metadata": {
    "ExecuteTime": {
     "end_time": "2023-12-03T22:14:18.209457Z",
     "start_time": "2023-12-03T22:14:17.857925Z"
    }
   },
   "outputs": [
    {
     "data": {
      "text/plain": "             WorkerId  Score Plausibility  ItemNum  \\\n0      A12FTSX85NQ8N9    4.0    Plausible        1   \n1      A18XFOKU5G1OL1    4.0    Plausible        1   \n2      A1M24593XO5Z3C    4.0    Plausible        1   \n3      A1R780RJYQ68GY    7.0    Plausible        1   \n4      A1TEXCUTI4IUUN    7.0    Plausible        1   \n...               ...    ...          ...      ...   \n31537  A3RLCGRXA34GC0    2.0  Implausible      368   \n31538   A98S1WLZ7NJL0    3.0  Implausible      368   \n31539   AFDC9A6Z60W2Z    7.0  Implausible      368   \n31540   ALEE1QD4TW9G4    7.0  Implausible      368   \n31541   AXMPSUNKUBEIL    7.0  Implausible      368   \n\n                                            Sentence TrialType    Voice  \n0                     The raider caught the illness.        AI   active  \n1                     The raider caught the illness.        AI   active  \n2              The illness was caught by the raider.        AI  passive  \n3              The illness was caught by the raider.        AI  passive  \n4              The illness was caught by the raider.        AI  passive  \n...                                              ...       ...      ...  \n31537  The warmonger was terrorized by the gunsmith.       AAN  passive  \n31538  The warmonger was terrorized by the gunsmith.       AAN  passive  \n31539  The warmonger was terrorized by the gunsmith.       AAN  passive  \n31540  The warmonger was terrorized by the gunsmith.       AAN  passive  \n31541         The gunsmith terrorized the warmonger.       AAN   active  \n\n[23629 rows x 7 columns]",
      "text/html": "<div>\n<style scoped>\n    .dataframe tbody tr th:only-of-type {\n        vertical-align: middle;\n    }\n\n    .dataframe tbody tr th {\n        vertical-align: top;\n    }\n\n    .dataframe thead th {\n        text-align: right;\n    }\n</style>\n<table border=\"1\" class=\"dataframe\">\n  <thead>\n    <tr style=\"text-align: right;\">\n      <th></th>\n      <th>WorkerId</th>\n      <th>Score</th>\n      <th>Plausibility</th>\n      <th>ItemNum</th>\n      <th>Sentence</th>\n      <th>TrialType</th>\n      <th>Voice</th>\n    </tr>\n  </thead>\n  <tbody>\n    <tr>\n      <th>0</th>\n      <td>A12FTSX85NQ8N9</td>\n      <td>4.0</td>\n      <td>Plausible</td>\n      <td>1</td>\n      <td>The raider caught the illness.</td>\n      <td>AI</td>\n      <td>active</td>\n    </tr>\n    <tr>\n      <th>1</th>\n      <td>A18XFOKU5G1OL1</td>\n      <td>4.0</td>\n      <td>Plausible</td>\n      <td>1</td>\n      <td>The raider caught the illness.</td>\n      <td>AI</td>\n      <td>active</td>\n    </tr>\n    <tr>\n      <th>2</th>\n      <td>A1M24593XO5Z3C</td>\n      <td>4.0</td>\n      <td>Plausible</td>\n      <td>1</td>\n      <td>The illness was caught by the raider.</td>\n      <td>AI</td>\n      <td>passive</td>\n    </tr>\n    <tr>\n      <th>3</th>\n      <td>A1R780RJYQ68GY</td>\n      <td>7.0</td>\n      <td>Plausible</td>\n      <td>1</td>\n      <td>The illness was caught by the raider.</td>\n      <td>AI</td>\n      <td>passive</td>\n    </tr>\n    <tr>\n      <th>4</th>\n      <td>A1TEXCUTI4IUUN</td>\n      <td>7.0</td>\n      <td>Plausible</td>\n      <td>1</td>\n      <td>The illness was caught by the raider.</td>\n      <td>AI</td>\n      <td>passive</td>\n    </tr>\n    <tr>\n      <th>...</th>\n      <td>...</td>\n      <td>...</td>\n      <td>...</td>\n      <td>...</td>\n      <td>...</td>\n      <td>...</td>\n      <td>...</td>\n    </tr>\n    <tr>\n      <th>31537</th>\n      <td>A3RLCGRXA34GC0</td>\n      <td>2.0</td>\n      <td>Implausible</td>\n      <td>368</td>\n      <td>The warmonger was terrorized by the gunsmith.</td>\n      <td>AAN</td>\n      <td>passive</td>\n    </tr>\n    <tr>\n      <th>31538</th>\n      <td>A98S1WLZ7NJL0</td>\n      <td>3.0</td>\n      <td>Implausible</td>\n      <td>368</td>\n      <td>The warmonger was terrorized by the gunsmith.</td>\n      <td>AAN</td>\n      <td>passive</td>\n    </tr>\n    <tr>\n      <th>31539</th>\n      <td>AFDC9A6Z60W2Z</td>\n      <td>7.0</td>\n      <td>Implausible</td>\n      <td>368</td>\n      <td>The warmonger was terrorized by the gunsmith.</td>\n      <td>AAN</td>\n      <td>passive</td>\n    </tr>\n    <tr>\n      <th>31540</th>\n      <td>ALEE1QD4TW9G4</td>\n      <td>7.0</td>\n      <td>Implausible</td>\n      <td>368</td>\n      <td>The warmonger was terrorized by the gunsmith.</td>\n      <td>AAN</td>\n      <td>passive</td>\n    </tr>\n    <tr>\n      <th>31541</th>\n      <td>AXMPSUNKUBEIL</td>\n      <td>7.0</td>\n      <td>Implausible</td>\n      <td>368</td>\n      <td>The gunsmith terrorized the warmonger.</td>\n      <td>AAN</td>\n      <td>active</td>\n    </tr>\n  </tbody>\n</table>\n<p>23629 rows × 7 columns</p>\n</div>"
     },
     "execution_count": 1,
     "metadata": {},
     "output_type": "execute_result"
    }
   ],
   "source": [
    "import pandas as pd\n",
    "\n",
    "df = pd.read_csv(\"clean_EventsAdapt_human_dat.csv\")\n",
    "# exclude AAR control sentences\n",
    "df = df[df[\"TrialType\"] != \"AAR\"]\n",
    "df"
   ]
  },
  {
   "cell_type": "code",
   "execution_count": 2,
   "id": "1d196939-782f-4d1d-b7a9-e61688d7b9b1",
   "metadata": {
    "ExecuteTime": {
     "end_time": "2023-12-03T22:14:18.237859Z",
     "start_time": "2023-12-03T22:14:18.207758Z"
    }
   },
   "outputs": [
    {
     "data": {
      "text/plain": "      ItemNum    Voice TrialType Plausibility  \\\n0           1   active        AI  Implausible   \n1           1   active        AI    Plausible   \n2           1  passive        AI  Implausible   \n3           1  passive        AI    Plausible   \n4           2   active        AI  Implausible   \n...       ...      ...       ...          ...   \n1023      367  passive       AAN    Plausible   \n1024      368   active       AAN  Implausible   \n1025      368   active       AAN    Plausible   \n1026      368  passive       AAN  Implausible   \n1027      368  passive       AAN    Plausible   \n\n                                               Sentence     Score  \\\n0                        The illness caught the raider.  3.083333   \n1                        The raider caught the illness.  5.545455   \n2                 The raider was caught by the illness.  2.541667   \n3                 The illness was caught by the raider.  5.333333   \n4                  The disease contracted the marauder.  1.440000   \n...                                                 ...       ...   \n1023  The lab assistant was overwhelmed by the neuro...  6.782609   \n1024             The gunsmith terrorized the warmonger.  4.409091   \n1025             The warmonger terrorized the gunsmith.  5.120000   \n1026      The warmonger was terrorized by the gunsmith.  4.700000   \n1027      The gunsmith was terrorized by the warmonger.  4.772727   \n\n      MinimalPairNr  \n0                 1  \n1                 1  \n2                 2  \n3                 2  \n4                 3  \n...             ...  \n1023            512  \n1024            513  \n1025            513  \n1026            514  \n1027            514  \n\n[1028 rows x 7 columns]",
      "text/html": "<div>\n<style scoped>\n    .dataframe tbody tr th:only-of-type {\n        vertical-align: middle;\n    }\n\n    .dataframe tbody tr th {\n        vertical-align: top;\n    }\n\n    .dataframe thead th {\n        text-align: right;\n    }\n</style>\n<table border=\"1\" class=\"dataframe\">\n  <thead>\n    <tr style=\"text-align: right;\">\n      <th></th>\n      <th>ItemNum</th>\n      <th>Voice</th>\n      <th>TrialType</th>\n      <th>Plausibility</th>\n      <th>Sentence</th>\n      <th>Score</th>\n      <th>MinimalPairNr</th>\n    </tr>\n  </thead>\n  <tbody>\n    <tr>\n      <th>0</th>\n      <td>1</td>\n      <td>active</td>\n      <td>AI</td>\n      <td>Implausible</td>\n      <td>The illness caught the raider.</td>\n      <td>3.083333</td>\n      <td>1</td>\n    </tr>\n    <tr>\n      <th>1</th>\n      <td>1</td>\n      <td>active</td>\n      <td>AI</td>\n      <td>Plausible</td>\n      <td>The raider caught the illness.</td>\n      <td>5.545455</td>\n      <td>1</td>\n    </tr>\n    <tr>\n      <th>2</th>\n      <td>1</td>\n      <td>passive</td>\n      <td>AI</td>\n      <td>Implausible</td>\n      <td>The raider was caught by the illness.</td>\n      <td>2.541667</td>\n      <td>2</td>\n    </tr>\n    <tr>\n      <th>3</th>\n      <td>1</td>\n      <td>passive</td>\n      <td>AI</td>\n      <td>Plausible</td>\n      <td>The illness was caught by the raider.</td>\n      <td>5.333333</td>\n      <td>2</td>\n    </tr>\n    <tr>\n      <th>4</th>\n      <td>2</td>\n      <td>active</td>\n      <td>AI</td>\n      <td>Implausible</td>\n      <td>The disease contracted the marauder.</td>\n      <td>1.440000</td>\n      <td>3</td>\n    </tr>\n    <tr>\n      <th>...</th>\n      <td>...</td>\n      <td>...</td>\n      <td>...</td>\n      <td>...</td>\n      <td>...</td>\n      <td>...</td>\n      <td>...</td>\n    </tr>\n    <tr>\n      <th>1023</th>\n      <td>367</td>\n      <td>passive</td>\n      <td>AAN</td>\n      <td>Plausible</td>\n      <td>The lab assistant was overwhelmed by the neuro...</td>\n      <td>6.782609</td>\n      <td>512</td>\n    </tr>\n    <tr>\n      <th>1024</th>\n      <td>368</td>\n      <td>active</td>\n      <td>AAN</td>\n      <td>Implausible</td>\n      <td>The gunsmith terrorized the warmonger.</td>\n      <td>4.409091</td>\n      <td>513</td>\n    </tr>\n    <tr>\n      <th>1025</th>\n      <td>368</td>\n      <td>active</td>\n      <td>AAN</td>\n      <td>Plausible</td>\n      <td>The warmonger terrorized the gunsmith.</td>\n      <td>5.120000</td>\n      <td>513</td>\n    </tr>\n    <tr>\n      <th>1026</th>\n      <td>368</td>\n      <td>passive</td>\n      <td>AAN</td>\n      <td>Implausible</td>\n      <td>The warmonger was terrorized by the gunsmith.</td>\n      <td>4.700000</td>\n      <td>514</td>\n    </tr>\n    <tr>\n      <th>1027</th>\n      <td>368</td>\n      <td>passive</td>\n      <td>AAN</td>\n      <td>Plausible</td>\n      <td>The gunsmith was terrorized by the warmonger.</td>\n      <td>4.772727</td>\n      <td>514</td>\n    </tr>\n  </tbody>\n</table>\n<p>1028 rows × 7 columns</p>\n</div>"
     },
     "execution_count": 2,
     "metadata": {},
     "output_type": "execute_result"
    }
   ],
   "source": [
    "# get avg score\n",
    "df = df.groupby([\"ItemNum\", \"Voice\", \"TrialType\", \"Plausibility\", \"Sentence\"])[\"Score\"].mean().reset_index()\n",
    "# add minimal pair column\n",
    "df[\"MinimalPairNr\"] = [num for num in range(1, int(len(df) / 2) + 1) for _ in range(2)]\n",
    "df"
   ]
  },
  {
   "cell_type": "code",
   "execution_count": 3,
   "id": "a18a832f-42cb-46b9-9de6-47686cca3ee6",
   "metadata": {
    "ExecuteTime": {
     "end_time": "2023-12-03T22:14:18.632547Z",
     "start_time": "2023-12-03T22:14:18.231273Z"
    }
   },
   "outputs": [],
   "source": [
    "data = []\n",
    "for item_num in sorted(df.MinimalPairNr.unique()):\n",
    "    rows = df[df.MinimalPairNr==item_num]\n",
    "    good = rows[rows.Plausibility==\"Plausible\"].squeeze()\n",
    "    bad = rows[rows.Plausibility==\"Implausible\"].squeeze()\n",
    "\n",
    "    good_sentence = good.Sentence\n",
    "    bad_sentence = bad.Sentence\n",
    "    \n",
    "    data.append(dict(\n",
    "        item_id=item_num,\n",
    "        good_sentence=good_sentence,\n",
    "        bad_sentence=bad_sentence,\n",
    "        good_human_score=good.Score,\n",
    "        bad_human_score=bad.Score,\n",
    "        trial_type=good.TrialType,\n",
    "        voice=good.Voice\n",
    "    ))\n",
    "\n",
    "clean_df = pd.DataFrame(data)\n",
    "clean_df.to_csv(\"corpus.csv\", index=False)"
   ]
  },
  {
   "cell_type": "code",
   "execution_count": 4,
   "id": "235fec99-8b38-4764-ada1-83ab935c10c5",
   "metadata": {
    "ExecuteTime": {
     "end_time": "2023-12-03T22:14:18.700878Z",
     "start_time": "2023-12-03T22:14:18.616593Z"
    }
   },
   "outputs": [
    {
     "data": {
      "text/plain": "     item_id                                      good_sentence  \\\n0          1                     The raider caught the illness.   \n1          2              The illness was caught by the raider.   \n2          3               The marauder contracted the disease.   \n3          4        The disease was contracted by the marauder.   \n4          5                    The convict dreaded the prison.   \n..       ...                                                ...   \n509      510  The abused woman was comforted by the social w...   \n510      511  The neuroscientist overwhelmed the lab assistant.   \n511      512  The lab assistant was overwhelmed by the neuro...   \n512      513             The warmonger terrorized the gunsmith.   \n513      514      The gunsmith was terrorized by the warmonger.   \n\n                                          bad_sentence  good_human_score  \\\n0                       The illness caught the raider.          5.545455   \n1                The raider was caught by the illness.          5.333333   \n2                 The disease contracted the marauder.          5.680000   \n3          The marauder was contracted by the disease.          5.875000   \n4                      The prison dreaded the convict.          6.208333   \n..                                                 ...               ...   \n509  The social worker was comforted by the abused ...          6.681818   \n510  The lab assistant overwhelmed the neuroscientist.          5.833333   \n511  The neuroscientist was overwhelmed by the lab ...          6.782609   \n512             The gunsmith terrorized the warmonger.          5.120000   \n513      The warmonger was terrorized by the gunsmith.          4.772727   \n\n     bad_human_score trial_type    voice  \n0           3.083333         AI   active  \n1           2.541667         AI  passive  \n2           1.440000         AI   active  \n3           1.818182         AI  passive  \n4           4.318182         AI   active  \n..               ...        ...      ...  \n509         3.320000        AAN  passive  \n510         5.636364        AAN   active  \n511         5.375000        AAN  passive  \n512         4.409091        AAN   active  \n513         4.700000        AAN  passive  \n\n[514 rows x 7 columns]",
      "text/html": "<div>\n<style scoped>\n    .dataframe tbody tr th:only-of-type {\n        vertical-align: middle;\n    }\n\n    .dataframe tbody tr th {\n        vertical-align: top;\n    }\n\n    .dataframe thead th {\n        text-align: right;\n    }\n</style>\n<table border=\"1\" class=\"dataframe\">\n  <thead>\n    <tr style=\"text-align: right;\">\n      <th></th>\n      <th>item_id</th>\n      <th>good_sentence</th>\n      <th>bad_sentence</th>\n      <th>good_human_score</th>\n      <th>bad_human_score</th>\n      <th>trial_type</th>\n      <th>voice</th>\n    </tr>\n  </thead>\n  <tbody>\n    <tr>\n      <th>0</th>\n      <td>1</td>\n      <td>The raider caught the illness.</td>\n      <td>The illness caught the raider.</td>\n      <td>5.545455</td>\n      <td>3.083333</td>\n      <td>AI</td>\n      <td>active</td>\n    </tr>\n    <tr>\n      <th>1</th>\n      <td>2</td>\n      <td>The illness was caught by the raider.</td>\n      <td>The raider was caught by the illness.</td>\n      <td>5.333333</td>\n      <td>2.541667</td>\n      <td>AI</td>\n      <td>passive</td>\n    </tr>\n    <tr>\n      <th>2</th>\n      <td>3</td>\n      <td>The marauder contracted the disease.</td>\n      <td>The disease contracted the marauder.</td>\n      <td>5.680000</td>\n      <td>1.440000</td>\n      <td>AI</td>\n      <td>active</td>\n    </tr>\n    <tr>\n      <th>3</th>\n      <td>4</td>\n      <td>The disease was contracted by the marauder.</td>\n      <td>The marauder was contracted by the disease.</td>\n      <td>5.875000</td>\n      <td>1.818182</td>\n      <td>AI</td>\n      <td>passive</td>\n    </tr>\n    <tr>\n      <th>4</th>\n      <td>5</td>\n      <td>The convict dreaded the prison.</td>\n      <td>The prison dreaded the convict.</td>\n      <td>6.208333</td>\n      <td>4.318182</td>\n      <td>AI</td>\n      <td>active</td>\n    </tr>\n    <tr>\n      <th>...</th>\n      <td>...</td>\n      <td>...</td>\n      <td>...</td>\n      <td>...</td>\n      <td>...</td>\n      <td>...</td>\n      <td>...</td>\n    </tr>\n    <tr>\n      <th>509</th>\n      <td>510</td>\n      <td>The abused woman was comforted by the social w...</td>\n      <td>The social worker was comforted by the abused ...</td>\n      <td>6.681818</td>\n      <td>3.320000</td>\n      <td>AAN</td>\n      <td>passive</td>\n    </tr>\n    <tr>\n      <th>510</th>\n      <td>511</td>\n      <td>The neuroscientist overwhelmed the lab assistant.</td>\n      <td>The lab assistant overwhelmed the neuroscientist.</td>\n      <td>5.833333</td>\n      <td>5.636364</td>\n      <td>AAN</td>\n      <td>active</td>\n    </tr>\n    <tr>\n      <th>511</th>\n      <td>512</td>\n      <td>The lab assistant was overwhelmed by the neuro...</td>\n      <td>The neuroscientist was overwhelmed by the lab ...</td>\n      <td>6.782609</td>\n      <td>5.375000</td>\n      <td>AAN</td>\n      <td>passive</td>\n    </tr>\n    <tr>\n      <th>512</th>\n      <td>513</td>\n      <td>The warmonger terrorized the gunsmith.</td>\n      <td>The gunsmith terrorized the warmonger.</td>\n      <td>5.120000</td>\n      <td>4.409091</td>\n      <td>AAN</td>\n      <td>active</td>\n    </tr>\n    <tr>\n      <th>513</th>\n      <td>514</td>\n      <td>The gunsmith was terrorized by the warmonger.</td>\n      <td>The warmonger was terrorized by the gunsmith.</td>\n      <td>4.772727</td>\n      <td>4.700000</td>\n      <td>AAN</td>\n      <td>passive</td>\n    </tr>\n  </tbody>\n</table>\n<p>514 rows × 7 columns</p>\n</div>"
     },
     "execution_count": 4,
     "metadata": {},
     "output_type": "execute_result"
    }
   ],
   "source": [
    "clean_df"
   ]
  },
  {
   "cell_type": "code",
   "execution_count": 4,
   "id": "517033d9-6e94-43e7-88de-557a86fa55f6",
   "metadata": {
    "ExecuteTime": {
     "end_time": "2023-12-03T22:14:18.707511Z",
     "start_time": "2023-12-03T22:14:18.619808Z"
    }
   },
   "outputs": [],
   "source": []
  }
 ],
 "metadata": {
  "kernelspec": {
   "display_name": "Python 3 (ipykernel)",
   "language": "python",
   "name": "python3"
  },
  "language_info": {
   "codemirror_mode": {
    "name": "ipython",
    "version": 3
   },
   "file_extension": ".py",
   "mimetype": "text/x-python",
   "name": "python",
   "nbconvert_exporter": "python",
   "pygments_lexer": "ipython3",
   "version": "3.10.13"
  }
 },
 "nbformat": 4,
 "nbformat_minor": 5
}
