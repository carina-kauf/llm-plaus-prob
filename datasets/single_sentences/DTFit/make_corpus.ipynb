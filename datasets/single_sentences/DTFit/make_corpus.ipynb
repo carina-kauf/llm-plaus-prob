{
 "cells": [
  {
   "cell_type": "code",
   "execution_count": 1,
   "id": "2c253418-9b57-43d2-b268-1d84f11c3ab0",
   "metadata": {
    "ExecuteTime": {
     "end_time": "2023-12-03T22:14:10.600939Z",
     "start_time": "2023-12-03T22:14:09.912220Z"
    }
   },
   "outputs": [],
   "source": [
    "import pandas as pd\n",
    "\n",
    "df = pd.read_csv(\"clean_DTFit_human_dat.csv\")\n",
    "\n",
    "data = []\n",
    "for item_num in sorted(df.ItemNum.unique()):\n",
    "    rows = df[df.ItemNum==item_num]\n",
    "    good = rows[rows.Plausibility==\"Plausible\"].squeeze()\n",
    "    bad = rows[rows.Plausibility==\"Implausible\"].squeeze()\n",
    "\n",
    "    good_sentence = good.Sentence\n",
    "    bad_sentence = bad.Sentence\n",
    "    \n",
    "    data.append(dict(\n",
    "        item_id=item_num,\n",
    "        good_sentence=good_sentence,\n",
    "        bad_sentence=bad_sentence,\n",
    "        good_human_score=good.Score,\n",
    "        bad_human_score=bad.Score\n",
    "    ))\n",
    "\n",
    "clean_df = pd.DataFrame(data)\n",
    "clean_df.to_csv(\"corpus.csv\", index=False)"
   ]
  },
  {
   "cell_type": "code",
   "execution_count": 2,
   "id": "0dbd7278-dcc3-461f-b60e-4435aae68583",
   "metadata": {
    "ExecuteTime": {
     "end_time": "2023-12-03T22:14:10.711388Z",
     "start_time": "2023-12-03T22:14:10.599001Z"
    }
   },
   "outputs": [
    {
     "data": {
      "text/plain": "     item_id                             good_sentence  \\\n0          1                  The actor won the award.   \n1          2              The anchorman told the news.   \n2          3                The animal found the food.   \n3          4               The ant stacked the supply.   \n4          5   The archeologist examined the epigraph.   \n..       ...                                       ...   \n390      393  The witness explained the circumstances.   \n391      394           The witness reported the crime.   \n392      395                The woman carried the bag.   \n393      396                 The woman opened the bag.   \n394      397            The woman painted the toenail.   \n\n                            bad_sentence  good_human_score  bad_human_score  \n0              The actor won the battle.              5.80             2.60  \n1        The anchorman told the parable.              6.75             3.00  \n2              The animal found the map.              5.85             2.00  \n3          The ant stacked the suitcase.              4.40             1.95  \n4     The archeologist examined the dog.              5.50             1.60  \n..                                   ...               ...              ...  \n390  The witness explained the equation.              5.60             1.80  \n391      The witness reported the birth.              6.40             2.40  \n392         The woman carried the stone.              6.25             3.10  \n393        The woman opened the manhole.              6.45             2.40  \n394          The woman painted the sign.              6.10             3.55  \n\n[395 rows x 5 columns]",
      "text/html": "<div>\n<style scoped>\n    .dataframe tbody tr th:only-of-type {\n        vertical-align: middle;\n    }\n\n    .dataframe tbody tr th {\n        vertical-align: top;\n    }\n\n    .dataframe thead th {\n        text-align: right;\n    }\n</style>\n<table border=\"1\" class=\"dataframe\">\n  <thead>\n    <tr style=\"text-align: right;\">\n      <th></th>\n      <th>item_id</th>\n      <th>good_sentence</th>\n      <th>bad_sentence</th>\n      <th>good_human_score</th>\n      <th>bad_human_score</th>\n    </tr>\n  </thead>\n  <tbody>\n    <tr>\n      <th>0</th>\n      <td>1</td>\n      <td>The actor won the award.</td>\n      <td>The actor won the battle.</td>\n      <td>5.80</td>\n      <td>2.60</td>\n    </tr>\n    <tr>\n      <th>1</th>\n      <td>2</td>\n      <td>The anchorman told the news.</td>\n      <td>The anchorman told the parable.</td>\n      <td>6.75</td>\n      <td>3.00</td>\n    </tr>\n    <tr>\n      <th>2</th>\n      <td>3</td>\n      <td>The animal found the food.</td>\n      <td>The animal found the map.</td>\n      <td>5.85</td>\n      <td>2.00</td>\n    </tr>\n    <tr>\n      <th>3</th>\n      <td>4</td>\n      <td>The ant stacked the supply.</td>\n      <td>The ant stacked the suitcase.</td>\n      <td>4.40</td>\n      <td>1.95</td>\n    </tr>\n    <tr>\n      <th>4</th>\n      <td>5</td>\n      <td>The archeologist examined the epigraph.</td>\n      <td>The archeologist examined the dog.</td>\n      <td>5.50</td>\n      <td>1.60</td>\n    </tr>\n    <tr>\n      <th>...</th>\n      <td>...</td>\n      <td>...</td>\n      <td>...</td>\n      <td>...</td>\n      <td>...</td>\n    </tr>\n    <tr>\n      <th>390</th>\n      <td>393</td>\n      <td>The witness explained the circumstances.</td>\n      <td>The witness explained the equation.</td>\n      <td>5.60</td>\n      <td>1.80</td>\n    </tr>\n    <tr>\n      <th>391</th>\n      <td>394</td>\n      <td>The witness reported the crime.</td>\n      <td>The witness reported the birth.</td>\n      <td>6.40</td>\n      <td>2.40</td>\n    </tr>\n    <tr>\n      <th>392</th>\n      <td>395</td>\n      <td>The woman carried the bag.</td>\n      <td>The woman carried the stone.</td>\n      <td>6.25</td>\n      <td>3.10</td>\n    </tr>\n    <tr>\n      <th>393</th>\n      <td>396</td>\n      <td>The woman opened the bag.</td>\n      <td>The woman opened the manhole.</td>\n      <td>6.45</td>\n      <td>2.40</td>\n    </tr>\n    <tr>\n      <th>394</th>\n      <td>397</td>\n      <td>The woman painted the toenail.</td>\n      <td>The woman painted the sign.</td>\n      <td>6.10</td>\n      <td>3.55</td>\n    </tr>\n  </tbody>\n</table>\n<p>395 rows × 5 columns</p>\n</div>"
     },
     "execution_count": 2,
     "metadata": {},
     "output_type": "execute_result"
    }
   ],
   "source": [
    "clean_df"
   ]
  }
 ],
 "metadata": {
  "kernelspec": {
   "display_name": "Python 3 (ipykernel)",
   "language": "python",
   "name": "python3"
  },
  "language_info": {
   "codemirror_mode": {
    "name": "ipython",
    "version": 3
   },
   "file_extension": ".py",
   "mimetype": "text/x-python",
   "name": "python",
   "nbconvert_exporter": "python",
   "pygments_lexer": "ipython3",
   "version": "3.10.13"
  }
 },
 "nbformat": 4,
 "nbformat_minor": 5
}
